{
 "cells": [
  {
   "cell_type": "markdown",
   "metadata": {},
   "source": [
    "# Projet du Bloc 2"
   ]
  },
  {
   "cell_type": "markdown",
   "metadata": {},
   "source": [
    "## Creation de point aleatoire"
   ]
  },
  {
   "cell_type": "code",
   "execution_count": null,
   "metadata": {},
   "outputs": [],
   "source": [
    "#Creation d'une liste de points à aleatoire\n",
    "import random\n",
    "\n",
    "def points_aleatoires(n=2000, xmin=-1000, xmax=1000, ymin=-1000, ymax=1000):\n",
    "    return [(random.randint(xmin, xmax), random.randint(ymin, ymax)) for _ in range(n)]\n"
   ]
  },
  {
   "cell_type": "code",
   "execution_count": null,
   "metadata": {
    "scrolled": true
   },
   "outputs": [],
   "source": [
    "point_aleatoire=points_aleatoires(3000)"
   ]
  },
  {
   "cell_type": "code",
   "execution_count": null,
   "metadata": {},
   "outputs": [],
   "source": [
    "def Sauvegarde_liste_point_aleatoire(nomfichier,points):\n",
    "    file = open(nomfichier, \"w\")\n",
    "    t=len(points)\n",
    "    file.write(str(t))\n",
    "    for i in range (t):\n",
    "        file.write(\"\\n\")\n",
    "        file.write(str(points[i][0]))\n",
    "        file.write(\",\") \n",
    "        file.write(str(points[i][1]))         \n",
    "    file.close()\n",
    "    "
   ]
  },
  {
   "cell_type": "code",
   "execution_count": null,
   "metadata": {},
   "outputs": [],
   "source": [
    "Sauvegarde_liste_point_aleatoire(\"data_.txt\",points_aleatoires(3))"
   ]
  },
  {
   "cell_type": "markdown",
   "metadata": {},
   "source": [
    "## Lecture des fichier jeux de données"
   ]
  },
  {
   "cell_type": "code",
   "execution_count": null,
   "metadata": {},
   "outputs": [],
   "source": [
    "def lirePoints(nomfichier):\n",
    "    L = []\n",
    "    with open(nomfichier, 'r') as file:\n",
    "        n = int(file.readline().rstrip())\n",
    "        for line in file.readlines():\n",
    "            x,y = line.rstrip().split(',')\n",
    "            if (type(x)==int and type(y)==int):\n",
    "                L.append((int(x),int(y)))\n",
    "            else:\n",
    "                L.append((float(x),float(y)))\n",
    "    return L\n"
   ]
  },
  {
   "cell_type": "code",
   "execution_count": null,
   "metadata": {},
   "outputs": [],
   "source": [
    "listePoints = lirePoints('data_.txt')\n",
    "print(listePoints)"
   ]
  },
  {
   "cell_type": "markdown",
   "metadata": {},
   "source": [
    "## Affichage du nuage de point"
   ]
  },
  {
   "cell_type": "code",
   "execution_count": null,
   "metadata": {},
   "outputs": [],
   "source": [
    "import matplotlib as mpl\n",
    "import matplotlib.pyplot as plt\n",
    "#mpl.rcParams['figure.figsize'] = (8, 5)\n",
    "#mpl.rcParams['figure.dpi'] = 120\n",
    "\n",
    "plt.rcParams['figure.figsize'] = (8, 5)\n",
    "plt.rcParams['figure.dpi'] = 120\n",
    "\n",
    "#import seaborn as sns\n",
    "#sns.set(context=\"notebook\", style=\"whitegrid\", palette=\"hls\", font=\"sans-serif\", font_scale=1.1)"
   ]
  },
  {
   "cell_type": "code",
   "execution_count": null,
   "metadata": {},
   "outputs": [],
   "source": [
    "# on regarde avec un exemple\n",
    "M=[[0.2, 3.35], [1.4, 2.45], [2.75, 0.35], [4.9, 3.35], [2.4, 3.6], [4.35, 1.65], [3.7, 4.45], [0.5, 0.7], [5.85, 0.9]]"
   ]
  },
  {
   "cell_type": "code",
   "execution_count": null,
   "metadata": {},
   "outputs": [],
   "source": [
    "#Affichae du nuage de points sans l'enveloppe convexe\n",
    "def affichage (L,nomfichier):\n",
    "    plt.figure()\n",
    "    plt.scatter([x for x,y in L], [y for x,y in L])\n",
    "    plt.xlabel(\"Axe X\")\n",
    "    plt.ylabel(\"Axe Y\")\n",
    "    plt.title(\"Affichage des points\")\n",
    "    labels = ['$P_{0}$'.format(i) for i in range(len(L))]\n",
    "    for label, x, y in zip(labels, [p[0] for p in L], [p[1] for p in L]):\n",
    "        plt.annotate(label, xy=(x, y),  va='bottom', ha='right', size='x-small', color='black')\n",
    "    plt.grid(True)\n",
    "    plt.savefig(nomfichier, format=\"svg\")\n",
    "    plt.show()\n",
    "    "
   ]
  },
  {
   "cell_type": "code",
   "execution_count": null,
   "metadata": {},
   "outputs": [],
   "source": [
    "affichage(M,\"M_nuage.svg\")"
   ]
  },
  {
   "cell_type": "code",
   "execution_count": null,
   "metadata": {},
   "outputs": [],
   "source": [
    "#affichage(listePoints,\"data_nuage.svg\")"
   ]
  },
  {
   "cell_type": "code",
   "execution_count": null,
   "metadata": {},
   "outputs": [],
   "source": [
    "Allo=[(21, 18), (9, 18), (2, 15), (1, 3), (12, 2), (15, 2), (22, 12)]\n",
    "#affichage(Allo,\"Allo_nuage.svg\")"
   ]
  },
  {
   "cell_type": "code",
   "execution_count": null,
   "metadata": {},
   "outputs": [],
   "source": [
    "T=[(4, 7), (-3, 6), (-3, -2), (-9, 5), (2, 8), (5, -2), (-5, 0), (2, 3), (-5, -6), (-3, 4)]\n",
    "#affichage(T,\"T_nuage.svg\")"
   ]
  },
  {
   "cell_type": "code",
   "execution_count": null,
   "metadata": {},
   "outputs": [],
   "source": [
    "N=[(-701, -624)]\n",
    "#affichage(N,\"N_nuage.svg\")"
   ]
  },
  {
   "cell_type": "code",
   "execution_count": null,
   "metadata": {},
   "outputs": [],
   "source": [
    "D=[(-747, -851), (-168, -236)]\n",
    "#affichage(D,\"D_nuage.svg\")"
   ]
  },
  {
   "cell_type": "code",
   "execution_count": null,
   "metadata": {},
   "outputs": [],
   "source": [
    "F=[(-884, 605), (-10, 703), (-427, -700)]\n",
    "#affichage(F,\"F_nuage.svg\")"
   ]
  },
  {
   "cell_type": "markdown",
   "metadata": {},
   "source": [
    "## Tri du nuage de point"
   ]
  },
  {
   "cell_type": "code",
   "execution_count": null,
   "metadata": {},
   "outputs": [],
   "source": [
    "# Définitions des fonctions pour trier le nuage par un tri fusion : fusion_points et tri_fusion_points"
   ]
  },
  {
   "cell_type": "code",
   "execution_count": null,
   "metadata": {},
   "outputs": [],
   "source": [
    "# méthode récursive\n",
    "def fusion_bis(L1, L2):\n",
    "    if not L1:\n",
    "        # si la liste L1 est vide on retourne directement L2\n",
    "        return L2\n",
    "    if not L2:\n",
    "        # idem mais avec L2\n",
    "        return L1\n",
    "    if L1[0] <= L2[0]:\n",
    "        return [L1[0]] + fusion_bis(L1[1:], L2)\n",
    "    else:\n",
    "        return [L2[0]] + fusion_bis(L1, L2[1:])\n",
    "    "
   ]
  },
  {
   "cell_type": "code",
   "execution_count": null,
   "metadata": {},
   "outputs": [],
   "source": [
    "# méthode récursive de fusion de listes de points\n",
    "def fusion_points(L1, L2):\n",
    "    if not L1:\n",
    "        # si la liste L1 est vide on retourne directement L2\n",
    "        return L2\n",
    "    if not L2:\n",
    "        # idem mais avec L2\n",
    "        return L1\n",
    "    # on tri selon l'abscisse\n",
    "    if L1[0][0] < L2[0][0]:\n",
    "        return [L1[0]] + fusion_bis(L1[1:], L2)\n",
    "    if L1[0][0] > L2[0][0]:\n",
    "        return [L2[0]] + fusion_bis(L1, L2[1:])\n",
    "    # cas en plus du fait qu'il faut ensuite trier selon l'ordonnée si il y a égalité\n",
    "    if L1[0][1] <= L2[0][1]:\n",
    "        return [L1[0]] + fusion_bis(L1[1:], L2)\n",
    "    else:\n",
    "        return [L2[0]] + fusion_bis(L1, L2[1:])\n",
    "    "
   ]
  },
  {
   "cell_type": "code",
   "execution_count": null,
   "metadata": {},
   "outputs": [],
   "source": [
    "# tri fusion aves des points\n",
    "def tri_fusion_points(L):\n",
    "    \"\"\" Fonction qui prend en argument une liste L de points du plan\n",
    "    et qui trie cette liste\n",
    "    \"\"\"\n",
    "    n = len(L)\n",
    "    if n <= 1:\n",
    "        return L\n",
    "    else:\n",
    "        m = n // 2\n",
    "        return fusion_points(tri_fusion_points(L[:m]), tri_fusion_points(L[m:]))\n",
    "    "
   ]
  },
  {
   "cell_type": "code",
   "execution_count": null,
   "metadata": {},
   "outputs": [],
   "source": [
    "def tri_nuage(L):\n",
    "    \"\"\" Renvoie la liste des points du nuage de points, triée par abscisse puis ordonnée croissante. \"\"\"\n",
    "    return tri_fusion_points(L)\n"
   ]
  },
  {
   "cell_type": "code",
   "execution_count": null,
   "metadata": {},
   "outputs": [],
   "source": [
    "\n",
    "def orientation(p, q ,r):\n",
    "    \"\"\" Renvoie 1 si le triplet (P, Q, R) est en sens direct,\n",
    "    0 si le triplet (P, Q, R) est un alignement,\n",
    "    et -1 si le triplet (P, Q, R) est en sens indirect. \"\"\"\n",
    "    vecteur_pq = (q[0] - p[0], q[1] - p[1])  # vecteur PQ\n",
    "    vecteur_pr = (r[0] - p[0], r[1] - p[1])  # vecteur PR\n",
    "    determinant = vecteur_pq[0]*vecteur_pr[1] - vecteur_pq[1]*vecteur_pr[0]  # le déterminant des deux vecteurs\n",
    "    if determinant > 0:\n",
    "        return 1\n",
    "    if determinant < 0:\n",
    "        return -1\n",
    "    return 0\n"
   ]
  },
  {
   "cell_type": "markdown",
   "metadata": {},
   "source": [
    "## Fonction enveloppe convexe"
   ]
  },
  {
   "cell_type": "code",
   "execution_count": null,
   "metadata": {},
   "outputs": [],
   "source": [
    "# on défini une fonction pour afficher le nuage de points et son enveloppe convexe\n",
    "def fonction_enveloppe_convexe(L_origin, debug=False):\n",
    "    L = tri_nuage(L_origin)\n",
    "    if debug:\n",
    "        print(L_origin)\n",
    "        print(L)\n",
    "    # on va créer un tableau d'association entre les indices des deux listes\n",
    "    association = {i: L_origin.index(L[i]) for i in range(len(L))}\n",
    "    EnvSup = []\n",
    "    EnvInf = []\n",
    "    for i in range(len(L)):\n",
    "        if debug:\n",
    "            if len(EnvSup) >= 2:\n",
    "                o = orientation(L[i], L[EnvSup[-1]], L[EnvSup[-2]])\n",
    "                print('Sup : ' + str(o))\n",
    "        while len(EnvSup) >= 2 and orientation(L[i], L[EnvSup[-1]], L[EnvSup[-2]]) <= 0:\n",
    "            EnvSup.pop()\n",
    "        EnvSup.append(i)\n",
    "        if debug:\n",
    "            if len(EnvInf) >= 2:\n",
    "                o = orientation(L[EnvInf[-2]], L[EnvInf[-1]], L[i])\n",
    "                print('Inf : ' + str(o))\n",
    "        while len(EnvInf) >= 2 and orientation(L[EnvInf[-2]], L[EnvInf[-1]], L[i]) <= 0:\n",
    "            EnvInf.pop()\n",
    "        EnvInf.append(i)\n",
    "        if debug:\n",
    "            print(EnvSup, EnvInf)\n",
    "    sommets = EnvInf[:-1] + EnvSup[::-1]\n",
    "    # on convertit les indices\n",
    "    return [association[i] for i in sommets]\n"
   ]
  },
  {
   "cell_type": "code",
   "execution_count": null,
   "metadata": {
    "scrolled": true
   },
   "outputs": [],
   "source": [
    "#Jeu de donnée manuel\n",
    "fonction_enveloppe_convexe(M)\n",
    "#fonction_enveloppe_convexe(Allo)\n",
    "#fonction_enveloppe_convexe(T)\n",
    "#fonction_enveloppe_convexe(listePoints)\n",
    "#fonction_enveloppe_convexe(N)\n",
    "#fonction_enveloppe_convexe(D)\n",
    "#fonction_enveloppe_convexe(F)"
   ]
  },
  {
   "cell_type": "code",
   "execution_count": null,
   "metadata": {},
   "outputs": [],
   "source": [
    "#on définit la taille maximal de l'ensemble convexe\n",
    "def taille_ensembles(L):\n",
    "    t=len(L)\n",
    "    return t\n"
   ]
  },
  {
   "cell_type": "code",
   "execution_count": null,
   "metadata": {},
   "outputs": [],
   "source": [
    "taille_ensembles(M)\n",
    "#taille_ensembles(listePoints)"
   ]
  },
  {
   "cell_type": "code",
   "execution_count": null,
   "metadata": {},
   "outputs": [],
   "source": [
    "Grandeur_ensembles=fonction_enveloppe_convexe(M)\n",
    "#Grandeur_ensembles=fonction_enveloppe_convexe(Allo)\n",
    "#Grandeur_ensembles=fonction_enveloppe_convexe(T)\n",
    "#Grandeur_ensembles=fonction_enveloppe_convexe(listePoints)\n",
    "#Grandeur_ensembles=fonction_enveloppe_convexe(N)\n",
    "#Grandeur_ensembles=fonction_enveloppe_convexe(D)\n",
    "#Grandeur_ensembles=fonction_enveloppe_convexe(F)\n",
    "\n",
    "print(\"L'indice des points convexe est :\",Grandeur_ensembles)\n",
    "print(\"La taille l'enveloppe convexe est :\",taille_ensembles(Grandeur_ensembles))\n"
   ]
  },
  {
   "cell_type": "markdown",
   "metadata": {},
   "source": [
    "## Affichage de l'enveloppe"
   ]
  },
  {
   "cell_type": "code",
   "execution_count": null,
   "metadata": {},
   "outputs": [],
   "source": [
    "#on affiche l'ensembles des couples x et y de l'enveloppe convexe ainsi sue la postion dans le fichier +1\n",
    "def affichage_couple_enveloppe(L,G):\n",
    "    t=int(taille_ensembles(G))\n",
    "    X=0\n",
    "    Y=0\n",
    "    P=[]\n",
    "    Cx=[]\n",
    "    Cy=[]\n",
    "    for i in range (t):\n",
    "        #print (i)\n",
    "        position=G[i]\n",
    "        X=L[position][0]\n",
    "        Y=L[position][1]\n",
    "        P.append(position)\n",
    "        Cx.append(X)\n",
    "        Cy.append(Y)\n",
    "        #print (position,X,Y)\n",
    "        print(f\"Position dans le tableau : {position} ; avec pour coordonnee X={X} et Y={Y}\")\n",
    "    return P,Cx,Cy\n"
   ]
  },
  {
   "cell_type": "code",
   "execution_count": null,
   "metadata": {},
   "outputs": [],
   "source": [
    "print(\"Couples\")\n",
    "affichage_couple_enveloppe(M,Grandeur_ensembles)\n",
    "#affichage_couple_enveloppe(Allo,Grandeur_ensembles)\n",
    "#affichage_couple_enveloppe(D,Grandeur_ensembles)\n",
    "#affichage_couple_enveloppe(F,Grandeur_ensembles)\n",
    "#affichage_couple_enveloppe(N,Grandeur_ensembles)\n",
    "#affichage_couple_enveloppe(T,Grandeur_ensembles)\n",
    "#affichage_couple_enveloppe(listePoints,Grandeur_ensembles)"
   ]
  },
  {
   "cell_type": "code",
   "execution_count": null,
   "metadata": {},
   "outputs": [],
   "source": [
    "# on défini une fonction pour afficher re nuage de points et son enveloppe convexe\n",
    "\n",
    "def affiche_enveloppe(L, algorithme,nomfichier):\n",
    "    \"\"\" Affiche l'enveloppe convexe du nuage de points selon l'algorithme sélectionné. \"\"\"\n",
    "    Enveloppe = algorithme(L)\n",
    "    t=taille_ensembles(Enveloppe)\n",
    "\n",
    "    X = [L[i][0] for i in Enveloppe]\n",
    "    X.append(L[Enveloppe[0]][0])\n",
    "    Y = [L[i][1] for i in Enveloppe]\n",
    "    Y.append(L[Enveloppe[0]][1])\n",
    "\n",
    "    #plt.xlim((-1, 7))\n",
    "    #plt.ylim((0, 5))\n",
    "    plt.scatter([x for x,y in L], [y for x,y in L])\n",
    "    plt.xlabel(\"Axe X\")\n",
    "    plt.ylabel(\"Axe Y\")\n",
    "    plt.title(\"Affichage de l'enveloppe\")\n",
    "\n",
    "    plt.plot(X, Y)\n",
    "\n",
    "    labels = ['$P_{0}$'.format(i) for i in range(len(L))]\n",
    "    for label, x, y in zip(labels, [p[0] for p in L], [p[1] for p in L]):\n",
    "        plt.annotate(label, xy=(x, y),  va='bottom', ha='right', size='xx-small', color='black')\n",
    "    plt.grid(True)\n",
    "    plt.savefig(nomfichier, format=\"svg\")\n",
    "    plt.show()\n",
    "    "
   ]
  },
  {
   "cell_type": "code",
   "execution_count": null,
   "metadata": {
    "scrolled": false
   },
   "outputs": [],
   "source": [
    "affiche_enveloppe(M, fonction_enveloppe_convexe, \"M.svg\")\n",
    "#affiche_enveloppe(Allo, fonction_enveloppe_convexe,\"Allo.svg\")\n",
    "#affiche_enveloppe(T, fonction_enveloppe_convexe,\"T.svg\")\n",
    "#affiche_enveloppe(N, fonction_enveloppe_convexe,\"N.svg\")\n",
    "#affiche_enveloppe(D, fonction_enveloppe_convexe,\"D.svg\")\n",
    "#affiche_enveloppe(F, fonction_enveloppe_convexe,\"F.svg\")\n",
    "#affiche_enveloppe(listePoints, fonction_enveloppe_convexe,\"data_.svg\")"
   ]
  },
  {
   "cell_type": "markdown",
   "metadata": {},
   "source": [
    "## Regroupement de toutes les fonctions"
   ]
  },
  {
   "cell_type": "code",
   "execution_count": null,
   "metadata": {},
   "outputs": [],
   "source": [
    "def AffichagePropreFichier (nomfichier):\n",
    "    L = lirePoints(nomfichier)\n",
    "    nomfichier_nuage=nomfichier.replace('.txt','_nuage.svg')\n",
    "    nomfichier_svg=nomfichier.replace('.txt','.svg')\n",
    "    \n",
    "    print(f\"La liste des points est la suivantes pour le fichier {nomfichier} : \\n\",L)\n",
    "    Grandeur_ensembles=fonction_enveloppe_convexe(L)\n",
    "    print(\"Emplacement des points de l'enveloppe convexe dans le Tableau est\\n\",Grandeur_ensembles)\n",
    "    \n",
    "    print(\"Les coordonnées de chaqu'un des points de l'enveloppe convexe est\")\n",
    "    affichage_couple_enveloppe(L,Grandeur_ensembles)\n",
    "    \n",
    "    print(\"Le nombre de point de l'enveloppe convexe est de\",taille_ensembles(Grandeur_ensembles))\n",
    "    \n",
    "    affichage(L,nomfichier_nuage)\n",
    "    affiche_enveloppe(L, fonction_enveloppe_convexe,nomfichier_svg)\n"
   ]
  },
  {
   "cell_type": "code",
   "execution_count": null,
   "metadata": {
    "scrolled": true
   },
   "outputs": [],
   "source": [
    "#Affichage pour 5 coordonnée\n",
    "#AffichagePropreFichier('data_a.txt')"
   ]
  },
  {
   "cell_type": "code",
   "execution_count": null,
   "metadata": {
    "scrolled": true
   },
   "outputs": [],
   "source": [
    "#Affichage pour 10 coordonnée\n",
    "#AffichagePropreFichier('data_b.txt')"
   ]
  },
  {
   "cell_type": "code",
   "execution_count": null,
   "metadata": {
    "scrolled": true
   },
   "outputs": [],
   "source": [
    "#Affichage pour 20 coordonnée\n",
    "#AffichagePropreFichier('data_c.txt')"
   ]
  },
  {
   "cell_type": "code",
   "execution_count": null,
   "metadata": {
    "scrolled": true
   },
   "outputs": [],
   "source": [
    "#Affichage pour 50 coordonnée\n",
    "#AffichagePropreFichier('data_d.txt')"
   ]
  },
  {
   "cell_type": "code",
   "execution_count": null,
   "metadata": {
    "scrolled": true
   },
   "outputs": [],
   "source": [
    "#Affichage pour 250 coordonnée\n",
    "#AffichagePropreFichier('data_e.txt')"
   ]
  },
  {
   "cell_type": "code",
   "execution_count": null,
   "metadata": {
    "scrolled": true
   },
   "outputs": [],
   "source": [
    "#Affichage pour 1000 coordonnée\n",
    "#AffichagePropreFichier('data_f.txt')"
   ]
  },
  {
   "cell_type": "code",
   "execution_count": null,
   "metadata": {},
   "outputs": [],
   "source": [
    "#erreur de recursivité pour la fonction fonction_enveloppe_convexe pour n >3000\n",
    "#AffichagePropreFichier('data_g.txt')"
   ]
  },
  {
   "cell_type": "code",
   "execution_count": null,
   "metadata": {},
   "outputs": [],
   "source": [
    "#Affichage pour data0\n",
    "AffichagePropreFichier('data0.txt')"
   ]
  },
  {
   "cell_type": "code",
   "execution_count": null,
   "metadata": {},
   "outputs": [],
   "source": [
    "#Affichage pour data1\n",
    "AffichagePropreFichier('data1.txt')"
   ]
  },
  {
   "cell_type": "code",
   "execution_count": null,
   "metadata": {},
   "outputs": [],
   "source": [
    "#Affichage pour data2\n",
    "AffichagePropreFichier('data2.txt')"
   ]
  },
  {
   "cell_type": "code",
   "execution_count": null,
   "metadata": {},
   "outputs": [],
   "source": [
    "#Affichage pour l'hexagone de la France\n",
    "#AffichagePropreFichier('france.txt')"
   ]
  },
  {
   "cell_type": "markdown",
   "metadata": {},
   "source": [
    "## Temps"
   ]
  },
  {
   "cell_type": "code",
   "execution_count": null,
   "metadata": {},
   "outputs": [],
   "source": [
    "import timeit\n"
   ]
  },
  {
   "cell_type": "code",
   "execution_count": null,
   "metadata": {},
   "outputs": [],
   "source": [
    "def tempsExecution (L,algo):\n",
    "    t = timeit.Timer(lambda:algo(L))\n",
    "    l=t.timeit(10)\n",
    "    m=l/10\n",
    "    return m\n"
   ]
  },
  {
   "cell_type": "code",
   "execution_count": null,
   "metadata": {
    "scrolled": false
   },
   "outputs": [],
   "source": [
    "import math\n",
    "\n",
    "def complexite_temporelle(debug=False):\n",
    "    \n",
    "    print(\"Grace au jeu de donnée\")\n",
    "    ListeFichier=['data_a.txt','data0.txt','data_b.txt','data_c.txt','data1.txt','data_d.txt','data2.txt','data_e.txt','data_f.txt','data_.txt']\n",
    "    l=len(ListeFichier)\n",
    "    n=[]\n",
    "    t=[]\n",
    "    logx=[]\n",
    "    racine=[]\n",
    "    x=[]\n",
    "    xlogx=[]\n",
    "    x2=[]\n",
    "    x3=[]\n",
    "\n",
    "    for i in range(l):\n",
    "        listePoint=lirePoints(ListeFichier[i])\n",
    "        n.append(len(listePoint))\n",
    "        \n",
    "        if(debug==True):\n",
    "            logx.append(math.log(n[i]))\n",
    "            racine.append(math.sqrt(n[i]))\n",
    "            x.append(n[i])\n",
    "            xlogx.append(n[i]*math.log(n[i]))\n",
    "            x2.append((n[i])**2)\n",
    "            x3.append((n[i])**3)\n",
    "        #\"\"\"\n",
    "        print(f\"Taille de la lsite pour {ListeFichier[i]} :\",n[i])\n",
    "        print(f\"Le temps d'execution pour {ListeFichier[i]} :\")\n",
    "        %timeit -r 3 -n 10 fonction_enveloppe_convexe(listePoint)\n",
    "        t.append(tempsExecution(listePoint,fonction_enveloppe_convexe))\n",
    "        print(t[i])\n",
    "\n",
    "\n",
    "    if debug==True :\n",
    "        plt.figure()\n",
    "        plt.xlabel(\"taille n\")\n",
    "        plt.ylabel(\"temps\")\n",
    "        plt.title(\"Courbes\")\n",
    "\n",
    "        plt.plot(n,t,'r',label=\"Courbes\")\n",
    "        plt.legend()\n",
    "        plt.grid(True)\n",
    "        plt.savefig(\"temps.png\", format=\"png\")\n",
    "        plt.show()\n",
    "\n",
    "        \n",
    "        plt.grid(True)\n",
    "        plt.plot(n,logx,'b',label=\"log x\")\n",
    "        plt.legend()\n",
    "        plt.savefig(\"logx.png\", format=\"png\")\n",
    "        plt.show()\n",
    "\n",
    "        plt.grid(True)\n",
    "        plt.plot(n,racine,'g',label=\"racine²\")\n",
    "        plt.legend()\n",
    "        plt.savefig(\"racine.png\", format=\"png\")\n",
    "        plt.show()\n",
    "\n",
    "        plt.grid(True)\n",
    "        plt.plot(n,x,'c',label=\"x\")\n",
    "        plt.legend()\n",
    "        plt.savefig(\"x.png\", format=\"png\")\n",
    "        plt.show()\n",
    "\n",
    "        plt.grid(True)\n",
    "        plt.plot(n,xlogx,'m',label=\"x log x\")\n",
    "        plt.legend()\n",
    "        plt.savefig(\"xlogx.png\", format=\"png\")\n",
    "        plt.show()\n",
    "\n",
    "        plt.grid(True)\n",
    "        plt.plot(n,x2,'y',label=\"x^2\")\n",
    "        plt.legend()\n",
    "        plt.savefig(\"x2.png\", format=\"png\")\n",
    "        plt.show()\n",
    "\n",
    "        plt.grid(True)\n",
    "        plt.plot(n,x3,'k',label=\"x^3\")\n",
    "        plt.legend()\n",
    "        plt.savefig(\"x3.png\", format=\"png\")\n",
    "        plt.show()\n",
    "        #\"\"\"\n",
    "        "
   ]
  },
  {
   "cell_type": "code",
   "execution_count": null,
   "metadata": {},
   "outputs": [],
   "source": [
    "complexite_temporelle(True)"
   ]
  },
  {
   "cell_type": "code",
   "execution_count": null,
   "metadata": {},
   "outputs": [],
   "source": [
    "def complexite_temporelle_alea(m,debug=False):\n",
    "    \n",
    "    n2=[]\n",
    "    t2=[]\n",
    "    logx=[]\n",
    "    racine=[]\n",
    "    x=[]\n",
    "    xlogx=[]\n",
    "    x2=[]\n",
    "    x3=[]\n",
    "        \n",
    "    for j in range(1,m+1):\n",
    "        aleatoire=points_aleatoires(j)\n",
    "        #print(aleatoire)\n",
    "        n2.append(len(aleatoire))\n",
    "       \n",
    "        \n",
    "        logx.append(math.log(n2[j-1]))\n",
    "        racine.append(math.sqrt(n2[j-1]))\n",
    "        x.append(n2[j-1])\n",
    "        xlogx.append(n2[j-1]*math.log(n2[j-1]))\n",
    "        x2.append((n2[j-1])**2)\n",
    "        x3.append((n2[j-1])**3)\n",
    "        #\"\"\" \n",
    "        #print(\"Taille de la lsite pour :\",n2[j-1])\n",
    "        #print(f\"Le temps d'execution pour {j-1} :\")\n",
    "        %timeit -r 3 -n 10 fonction_enveloppe_convexe(aleatoire)\n",
    "        t2.append(tempsExecution(aleatoire,fonction_enveloppe_convexe))\n",
    "        #print(t2[j-1])\n",
    "     \n",
    "    if debug==True :\n",
    "        plt.figure()\n",
    "        plt.xlabel(\"taille n\")\n",
    "        plt.ylabel(\"temps\")\n",
    "        plt.title(\"Courbes\")\n",
    "\n",
    "        plt.plot(n2,t2,'r',label=\"Courbes\")\n",
    "        plt.legend()\n",
    "        plt.grid(True)\n",
    "        plt.savefig(\"temps.png\", format=\"png\")\n",
    "        plt.show()\n",
    "\n",
    "\n",
    "        plt.grid(True)\n",
    "        plt.plot(n2,logx,'b',label=\"log x\")\n",
    "        plt.legend()\n",
    "        plt.savefig(\"logx.png\", format=\"png\")\n",
    "        plt.show()\n",
    "\n",
    "        plt.grid(True)\n",
    "        plt.plot(n2,racine,'g',label=\"racine²\")\n",
    "        plt.legend()\n",
    "        plt.savefig(\"racine.png\", format=\"png\")\n",
    "        plt.show()\n",
    "\n",
    "        plt.grid(True)\n",
    "        plt.plot(n2,x,'c',label=\"x\")\n",
    "        plt.legend()\n",
    "        plt.savefig(\"x.png\", format=\"png\")\n",
    "        plt.show()\n",
    "\n",
    "        plt.grid(True)\n",
    "        plt.plot(n2,xlogx,'m',label=\"x log x\")\n",
    "        plt.legend()\n",
    "        plt.savefig(\"xlogx.png\", format=\"png\")\n",
    "        plt.show()\n",
    "\n",
    "        plt.grid(True)\n",
    "        plt.plot(n2,x2,'y',label=\"x^2\")\n",
    "        plt.legend()\n",
    "        plt.savefig(\"x2.png\", format=\"png\")\n",
    "        plt.show()\n",
    "\n",
    "        plt.grid(True)\n",
    "        plt.plot(n2,x3,'k',label=\"x^3\")\n",
    "        plt.legend()\n",
    "        plt.savefig(\"x3.png\", format=\"png\")\n",
    "        plt.show()\n",
    " #\"\"\"   \n"
   ]
  },
  {
   "cell_type": "code",
   "execution_count": null,
   "metadata": {
    "scrolled": true
   },
   "outputs": [],
   "source": [
    "complexite_temporelle_alea(64,True)\n"
   ]
  },
  {
   "cell_type": "code",
   "execution_count": null,
   "metadata": {},
   "outputs": [],
   "source": []
  },
  {
   "cell_type": "code",
   "execution_count": null,
   "metadata": {},
   "outputs": [],
   "source": [
    "#tempsExecution('data_t.txt',AffichagePropreFichier)"
   ]
  }
 ],
 "metadata": {
  "kernelspec": {
   "display_name": "Python 3",
   "language": "python",
   "name": "python3"
  },
  "language_info": {
   "codemirror_mode": {
    "name": "ipython",
    "version": 3
   },
   "file_extension": ".py",
   "mimetype": "text/x-python",
   "name": "python",
   "nbconvert_exporter": "python",
   "pygments_lexer": "ipython3",
   "version": "3.8.8"
  }
 },
 "nbformat": 4,
 "nbformat_minor": 4
}
